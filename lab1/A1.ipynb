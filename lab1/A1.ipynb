{
 "cells": [
  {
   "cell_type": "code",
   "execution_count": 1,
   "metadata": {},
   "outputs": [],
   "source": [
    "import numpy as np"
   ]
  },
  {
   "cell_type": "code",
   "execution_count": 8,
   "metadata": {},
   "outputs": [
    {
     "name": "stdout",
     "output_type": "stream",
     "text": [
      "[[1. 1. 1.]\n",
      " [1. 1. 1.]\n",
      " [1. 1. 1.]]\n",
      "[[2. 2. 2.]\n",
      " [2. 2. 2.]\n",
      " [2. 2. 2.]]\n"
     ]
    }
   ],
   "source": [
    "A = [list(map(int,input().split())) for _ in range(3)]\n",
    "B = [list(map(int,input().split())) for _ in range(3)]\n",
    "k = 0\n",
    "BeginState = np.zeros((3,3))\n",
    "EndState = np.zeros((3,3))\n",
    "for i in range(3):\n",
    "    for j in range(3):\n",
    "        BeginState[i][j] = A[i][j]\n",
    "        EndState[i][j] = B[i][j]\n",
    "        \n",
    "print(BeginState)\n",
    "print(EndState)"
   ]
  },
  {
   "cell_type": "code",
   "execution_count": null,
   "metadata": {},
   "outputs": [],
   "source": [
    "openlist=[]#open表\n",
    "\n",
    "class State:\n",
    "    def __init__(self,m):\n",
    "        self.node=m#节点代表的状态\n",
    "        self.f=0#f(n)=g(n)+h(n)\n",
    "        self.g=0#g(n)\n",
    "        self.h=0#h(n)\n",
    "        self.father=None#节点的父亲节点\n",
    "\n",
    "init = State()#初始状态\n",
    "goal=State(N)#目标状态\n"
   ]
  }
 ],
 "metadata": {
  "kernelspec": {
   "display_name": "Python 3.9.12 ('base')",
   "language": "python",
   "name": "python3"
  },
  "language_info": {
   "codemirror_mode": {
    "name": "ipython",
    "version": 3
   },
   "file_extension": ".py",
   "mimetype": "text/x-python",
   "name": "python",
   "nbconvert_exporter": "python",
   "pygments_lexer": "ipython3",
   "version": "3.9.12"
  },
  "orig_nbformat": 4,
  "vscode": {
   "interpreter": {
    "hash": "801fb8c33f8c68180e37a8c1364b3c6a53999c7101aab4a9c118e848976b7427"
   }
  }
 },
 "nbformat": 4,
 "nbformat_minor": 2
}
