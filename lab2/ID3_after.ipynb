{
 "cells": [
  {
   "cell_type": "markdown",
   "metadata": {},
   "source": [
    "# ID3连续值决策树（最大深度限定）"
   ]
  },
  {
   "cell_type": "markdown",
   "metadata": {},
   "source": [
    "## 导入需要的包"
   ]
  },
  {
   "cell_type": "code",
   "execution_count": 1,
   "metadata": {},
   "outputs": [],
   "source": [
    "import math\n",
    "import numpy as np\n",
    "import os"
   ]
  },
  {
   "cell_type": "markdown",
   "metadata": {
    "tags": []
   },
   "source": [
    "## 从文件中加载数据（traindata）"
   ]
  },
  {
   "cell_type": "code",
   "execution_count": 2,
   "metadata": {},
   "outputs": [],
   "source": [
    "def loadData(fileName):\n",
    "    dataArr = []; labelArr = []; nameArr = []\n",
    "    fr = open(fileName)\n",
    "    length = len(fr.readlines())\n",
    "    fr.seek(0,0)    #最后一行为空行，光标从末尾读取一直为空，必须移动到开头重新读取\n",
    "    lines = fr.readlines()\n",
    "    for line in lines[1:length-1]:\n",
    "        curline = line.strip().split()\n",
    "        floatline = list(map(float,curline[0:-1]))\n",
    "        intline = int(curline[-1])\n",
    "        dataArr.append([num for num in floatline])\n",
    "        labelArr.append(intline)\n",
    "    \n",
    "    for i in range(len(dataArr[0])):\n",
    "        nameArr.append(\"属性\"+str(i+1))\n",
    "    dataArr = np.asarray(dataArr)\n",
    "    labelArr = np.asarray(labelArr)\n",
    "    return dataArr, labelArr, nameArr"
   ]
  },
  {
   "cell_type": "markdown",
   "metadata": {},
   "source": [
    "## 信息熵的计算；信息增益的计算；获取数据集子集（data_left, data_right, label_left, label_right）"
   ]
  },
  {
   "cell_type": "code",
   "execution_count": 3,
   "metadata": {},
   "outputs": [
    {
     "name": "stdout",
     "output_type": "stream",
     "text": [
      "1.584962500721156\n",
      "0.8 0.9182958340544894\n",
      "2.45 0.9182958340544894\n"
     ]
    }
   ],
   "source": [
    "#计算信息熵的函数\n",
    "def singleEntropy(labelArr):\n",
    "    \"\"\"计算一个输入序列的信息熵\"\"\"\n",
    "    n = len(labelArr)\n",
    "    dic ={}\n",
    "    for label in labelArr:\n",
    "        if label not in dic.keys():\n",
    "            dic[label] = 0\n",
    "        dic[label] += 1\n",
    "    entropy = 0\n",
    "    for key in dic:\n",
    "        p = float(dic[key]) / n\n",
    "        entropy += -p * np.log2(p)\n",
    "    return entropy\n",
    "\n",
    "def getSubData(dataArr,labelArr,feature,point):\n",
    "    index_left = (dataArr[:, feature] <= point)\n",
    "    index_right = (dataArr[:, feature] > point)\n",
    "\n",
    "    data_left = dataArr[index_left]\n",
    "    data_right = dataArr[index_right]\n",
    "\n",
    "    label_left = labelArr[index_left]\n",
    "    label_right = labelArr[index_right]\n",
    "    return data_left, data_right, label_left, label_right\n",
    "\n",
    "\n",
    "#信息增益\n",
    "def infoGain(dataArr, labelArr, a):\n",
    "    entropy = singleEntropy(labelArr)\n",
    "    value = [fea[a] for fea in dataArr]\n",
    "    value = list(set(value))\n",
    "    value.sort()\n",
    "    select_points = []\n",
    "    n = len(value)\n",
    "\n",
    "    for i in range(n - 1):\n",
    "        val = (value[i] + value[i + 1]) / 2\n",
    "        _,_,label_left,label_right = getSubData(dataArr,labelArr,a,val)\n",
    "        ent_left = singleEntropy(label_left)\n",
    "        ent_right = singleEntropy(label_right)\n",
    "\n",
    "        exception = len(label_left) / len(labelArr) * ent_left + len(label_right) / len(labelArr) * ent_right\n",
    "        result = entropy - exception\n",
    "        select_points.append([val, result])\n",
    "    select_points.sort(key=lambda x: x[1], reverse=True)\n",
    "    # print(select_points)\n",
    "    return select_points[0][0], select_points[0][1]\n",
    "    \n",
    "testdata,testlabel, nameArr = loadData(\"data/traindata.txt\")\n",
    "en = singleEntropy(testlabel)\n",
    "print(en)\n",
    "num1,en1 = infoGain(testdata,testlabel,3)\n",
    "num2,en2 = infoGain(testdata,testlabel,2)\n",
    "print(num1,en1)\n",
    "print(num2,en2)\n"
   ]
  },
  {
   "cell_type": "markdown",
   "metadata": {},
   "source": [
    "## 特征选取 + 多数投票"
   ]
  },
  {
   "cell_type": "code",
   "execution_count": 4,
   "metadata": {},
   "outputs": [
    {
     "name": "stdout",
     "output_type": "stream",
     "text": [
      "属性3--2.45\n",
      "34\n",
      "75\n",
      "1\n",
      "1\n"
     ]
    }
   ],
   "source": [
    "#特征选取\n",
    "def bestfeature(dataArr, labels, nameArr):\n",
    "    data = np.asarray(dataArr)\n",
    "    labels = np.asarray(labels)\n",
    "    \n",
    "    featureNum = data.shape[1]\n",
    "    bestFeature = -100; bestEntropy = -100; bestPoint = 0\n",
    "    for i in range(featureNum):\n",
    "        point,entropy = infoGain(dataArr,labels,i)\n",
    "        if entropy > bestEntropy:\n",
    "            bestEntropy = entropy\n",
    "            bestFeature = i\n",
    "            bestPoint = point\n",
    "    name = str(nameArr[bestFeature]) + '--' + str(bestPoint)\n",
    "    return bestFeature, bestEntropy, bestPoint, name\n",
    "\n",
    "#多数投票\n",
    "def voteLabel(labelArr):\n",
    "    uniqueLabel = list(set(labelArr))\n",
    "    labelArr = np.asarray(labelArr)\n",
    "    labels = []\n",
    "    for label in uniqueLabel:\n",
    "        labels.append(labelArr[labelArr==label].size)\n",
    "    return uniqueLabel[labels.index(max(labels))]   #labels最大的索引与uniqueLabel加入元素的索引相同\n",
    "\n",
    "testdata, testlabel, nameArr = loadData(\"data/traindata.txt\")\n",
    "bestFea, bestEn, bestPoint, name = bestfeature(testdata, testlabel, nameArr)\n",
    "print(name)\n",
    "\n",
    "n = len(testdata)\n",
    "n1 = set(testdata[:,bestFea])\n",
    "n1 = list(n1)\n",
    "n1 = len(n1)\n",
    "print(n1)\n",
    "print(n)\n",
    "label_left = testlabel[testdata[:,bestFea] <= bestPoint]\n",
    "n2 = len(list(set(label_left)))\n",
    "newlabel = voteLabel(label_left)\n",
    "print(newlabel)\n",
    "print(n2)"
   ]
  },
  {
   "cell_type": "markdown",
   "metadata": {},
   "source": [
    "## 创建决策树（max_depth为最大限定深度）；树信息统计：叶子节点数量、树深度"
   ]
  },
  {
   "cell_type": "code",
   "execution_count": 5,
   "metadata": {},
   "outputs": [],
   "source": [
    "# 创建决策树\n",
    "def createTree(dataArr, labelsArr, nameArr, max_depth):\n",
    "    data = np.asarray(dataArr)\n",
    "    labels = labelsArr.tolist()\n",
    "    names = np.asarray(nameArr)\n",
    "    \n",
    "    # 如果结果为单一结果\n",
    "    if len(labels) == 0: \n",
    "        return  \n",
    "    # 如果没有待分类特征\n",
    "    if labels.count(labels[0]) == len(labels): \n",
    "        return voteLabel(labels)\n",
    "    if max_depth <= 1:\n",
    "        return voteLabel(labels)\n",
    "    labels = np.asarray(labelsArr)\n",
    "    # 其他情况则选取特征 \n",
    "    bestFeature, _, bestPoint,bestfeaname = bestfeature(data, labels, names)\n",
    "    # 根据选取的特征名称创建树节点\n",
    "    decisionTree = {bestfeaname: {}}\n",
    "    \n",
    "    \n",
    "    # 根据最优特征进行分割\n",
    "    data_left, data_right, label_left, label_right = getSubData(data, labels, bestFeature, bestPoint) \n",
    "    # 对最优特征的每个特征值所分的数据子集进行计算\n",
    "    decisionTree[bestfeaname]['<'] = createTree(data_left, label_left, names, max_depth - 1)\n",
    "    decisionTree[bestfeaname]['>'] = createTree(data_right, label_right, names, max_depth - 1)\n",
    "    return decisionTree\n",
    "\n",
    "#树信息统计 叶子节点数量 和 树深度\n",
    "def getTreeSize(decisionTree):\n",
    "    if type(decisionTree).__name__==\"int\":\n",
    "        print(\"This is not a tree\")\n",
    "        return \n",
    "    nodeName = list(decisionTree.keys())[0]\n",
    "    nodeValue = decisionTree[nodeName]\n",
    "    leafNum = 0\n",
    "    treeDepth = 0 \n",
    "    leafDepth = 0\n",
    "    for val in nodeValue.keys():\n",
    "        if type(nodeValue[val]) == dict:\n",
    "            leafNum += getTreeSize(nodeValue[val])[0]\n",
    "            leafDepth = 1 + getTreeSize(nodeValue[val])[1] \n",
    "        else :\n",
    "            leafNum += 1 \n",
    "            leafDepth = 1 \n",
    "        treeDepth = max(treeDepth, leafDepth)\n",
    "    return leafNum, treeDepth "
   ]
  },
  {
   "cell_type": "markdown",
   "metadata": {},
   "source": [
    "## 预测决策树"
   ]
  },
  {
   "cell_type": "code",
   "execution_count": 69,
   "metadata": {},
   "outputs": [
    {
     "name": "stdout",
     "output_type": "stream",
     "text": [
      "{'属性3--2.45': {'<': 1, '>': {'属性3--4.75': {'<': 2, '>': {'属性4--1.75': {'<': 2, '>': 3}}}}}}\n"
     ]
    },
    {
     "data": {
      "image/png": "[encoded data removed]",
      "text/plain": [
       "<Figure size 640x480 with 1 Axes>"
      ]
     },
     "metadata": {},
     "output_type": "display_data"
    },
    {
     "name": "stdout",
     "output_type": "stream",
     "text": [
      "[1 1 1 1 1 1 1 1 1 1 1 1 1 1 1 1 1 1 1 1 1 1 1 1 1 2 2 2 2 2 2 2 2 2 2 2 2\n",
      " 2 2 2 2 2 2 2 2 3 2 2 2 2 3 3 3 3 3 3 2 3 3 3 3 3 3 3 3 3 3 3 3 2 3 3 3 3\n",
      " 3]\n",
      "0.96\n"
     ]
    }
   ],
   "source": [
    "def predict_item(Tree, data):\n",
    "    first_feature = list(Tree.keys())[0] \n",
    "    bestFea, val = first_feature.split('--')\n",
    "    \n",
    "    if data[int(bestFea[2])-1] <= float(val):\n",
    "        subTree = Tree[first_feature]['<'] \n",
    "    elif data[int(bestFea[2])-1] > float(val):\n",
    "        subTree = Tree[first_feature]['>'] \n",
    "    \n",
    "    if isinstance(subTree, dict):\n",
    "        label_pred = predict_item(subTree, data)\n",
    "    else:\n",
    "        label_pred = int(subTree)\n",
    "   \n",
    "    return label_pred\n",
    "\n",
    "def predict(Tree,test_data):\n",
    "    test_label = []\n",
    "    for data in test_data:\n",
    "        label = predict_item(Tree, data)\n",
    "        test_label.append(label)\n",
    "    return np.asarray(test_label)\n",
    "\n",
    "def score(test_data, test_label, Tree):\n",
    "    label_pre = predict(Tree, test_data)\n",
    "    return np.sum(label_pre == test_label) / len(test_label)\n",
    "\n",
    "testdata,testlabel, nameArr = loadData(\"data/traindata.txt\")\n",
    "testtree = createTree(testdata,testlabel,nameArr,4) \n",
    "print(testtree)\n",
    "# leafNum,treeDepth = getTreeSize(testtree)\n",
    "# print(leafNum); print(treeDepth)\n",
    "createPlot(testtree)\n",
    "test1data,test1label, name1Arr = loadData(\"data/testdata.txt\")\n",
    "class_label = predict(testtree,test1data)\n",
    "print(class_label)\n",
    "print(score(test1data,test1label,testtree))"
   ]
  },
  {
   "cell_type": "markdown",
   "metadata": {},
   "source": [
    "## 决策树画图函数"
   ]
  },
  {
   "cell_type": "code",
   "execution_count": 68,
   "metadata": {},
   "outputs": [
    {
     "name": "stdout",
     "output_type": "stream",
     "text": [
      "1\n",
      "This is not a tree\n"
     ]
    }
   ],
   "source": [
    "import matplotlib.pyplot as plt\n",
    "import matplotlib.pyplot as plt \n",
    " \n",
    "plt.rcParams['font.sans-serif']=['SimHei'] #用来正常显示中文标签\n",
    "plt.rcParams['axes.unicode_minus']=False #用来正常显示负号 #有中文出现的情况，需要u'内容'\n",
    "\n",
    "\n",
    "decisionNodeStyle = dict(boxstyle = \"sawtooth\", fc = \"0.8\")\n",
    "leafNodeStyle = {\"boxstyle\": \"round4\", \"fc\": \"0.8\"}\n",
    "arrowArgs = {\"arrowstyle\": \"<-\"}\n",
    "\n",
    "\n",
    "# 画节点\n",
    "def plotNode(nodeText, centerPt, parentPt, nodeStyle):\n",
    "    createPlot.ax1.annotate(nodeText, xy = parentPt, xycoords = \"axes fraction\", xytext = centerPt\n",
    "                            , textcoords = \"axes fraction\", va = \"center\", ha=\"center\", bbox = nodeStyle, arrowprops = arrowArgs)\n",
    "\n",
    "\n",
    "# 添加箭头上的标注文字\n",
    "def plotMidText(centerPt, parentPt, lineText):\n",
    "    xMid = (centerPt[0] + parentPt[0]) / 2.0\n",
    "    yMid = (centerPt[1] + parentPt[1]) / 2.0 \n",
    "    createPlot.ax1.text(xMid, yMid, lineText)\n",
    "    \n",
    "    \n",
    "# 画树\n",
    "def plotTree(decisionTree, parentPt, parentValue):\n",
    "    # 计算宽与高\n",
    "    leafNum, treeDepth = getTreeSize(decisionTree) \n",
    "    # 在 1 * 1 的范围内画图，因此分母为 1\n",
    "    # 每个叶节点之间的偏移量\n",
    "    plotTree.xOff = plotTree.figSize / (plotTree.totalLeaf - 1)\n",
    "    # 每一层的高度偏移量\n",
    "    plotTree.yOff = plotTree.figSize / plotTree.totalDepth\n",
    "    # 节点名称\n",
    "    nodeName = list(decisionTree.keys())[0]\n",
    "    # 根节点的起止点相同，可避免画线；如果是中间节点，则从当前叶节点的位置开始，\n",
    "    #      然后加上本次子树的宽度的一半，则为决策节点的横向位置\n",
    "    centerPt = (plotTree.x + (leafNum - 1) * plotTree.xOff / 2.0, plotTree.y)\n",
    "    # 画出该决策节点\n",
    "    plotNode(nodeName, centerPt, parentPt, decisionNodeStyle)\n",
    "    # 标记本节点对应父节点的属性值\n",
    "    plotMidText(centerPt, parentPt, parentValue)\n",
    "    # 取本节点的属性值\n",
    "    treeValue = decisionTree[nodeName]\n",
    "    # 下一层各节点的高度\n",
    "    plotTree.y = plotTree.y - plotTree.yOff\n",
    "    # 绘制下一层\n",
    "    for val in treeValue.keys():\n",
    "        # 如果属性值对应的是字典，说明是子树，进行递归调用； 否则则为叶子节点\n",
    "        if type(treeValue[val]) == dict:\n",
    "            plotTree(treeValue[val], centerPt, str(val))\n",
    "        else:\n",
    "            plotNode(treeValue[val], (plotTree.x, plotTree.y), centerPt, leafNodeStyle)\n",
    "            plotMidText((plotTree.x, plotTree.y), centerPt, str(val))\n",
    "            # 移到下一个叶子节点\n",
    "            plotTree.x = plotTree.x + plotTree.xOff\n",
    "    # 递归完成后返回上一层\n",
    "    plotTree.y = plotTree.y + plotTree.yOff\n",
    "    \n",
    "    \n",
    "# 画出决策树\n",
    "def createPlot(decisionTree):\n",
    "    if type(decisionTree).__name__==\"int\":\n",
    "        print(\"This is not a tree\")\n",
    "        return \n",
    "    fig = plt.figure(1, facecolor = \"white\")\n",
    "    fig.clf()\n",
    "    axprops = {\"xticks\": [], \"yticks\": []}\n",
    "    createPlot.ax1 = plt.subplot(111, frameon = False, **axprops)\n",
    "    # 定义画图的图形尺寸\n",
    "    plotTree.figSize = 1.5 \n",
    "    # 初始化树的总大小\n",
    "    plotTree.totalLeaf, plotTree.totalDepth = getTreeSize(decisionTree)\n",
    "    # 叶子节点的初始位置x 和 根节点的初始层高度y\n",
    "    plotTree.x = 0 \n",
    "    plotTree.y = plotTree.figSize\n",
    "    plotTree(decisionTree, (plotTree.figSize / 2.0, plotTree.y), \"\")\n",
    "    plt.show()\n",
    "\n",
    "# 限定深度ID3\n",
    "testdata,testlabel, nameArr = loadData(\"data/traindata.txt\")\n",
    "testtree = createTree(testdata,testlabel,nameArr,1) \n",
    "print(testtree)\n",
    "# leafNum,treeDepth = getTreeSize(testtree)\n",
    "# print(leafNum); print(treeDepth)\n",
    "createPlot(testtree)"
   ]
  }
 ],
 "metadata": {
  "kernelspec": {
   "display_name": "Python 3.9.12 ('base')",
   "language": "python",
   "name": "python3"
  },
  "language_info": {
   "codemirror_mode": {
    "name": "ipython",
    "version": 3
   },
   "file_extension": ".py",
   "mimetype": "text/x-python",
   "name": "python",
   "nbconvert_exporter": "python",
   "pygments_lexer": "ipython3",
   "version": "3.9.12"
  },
  "orig_nbformat": 4,
  "vscode": {
   "interpreter": {
    "hash": "801fb8c33f8c68180e37a8c1364b3c6a53999c7101aab4a9c118e848976b7427"
   }
  }
 },
 "nbformat": 4,
 "nbformat_minor": 2
}
